{
 "cells": [
  {
   "cell_type": "code",
   "execution_count": 1,
   "id": "cce8d728",
   "metadata": {
    "_cell_guid": "b1076dfc-b9ad-4769-8c92-a6c4dae69d19",
    "_uuid": "8f2839f25d086af736a60e9eeb907d3b93b6e0e5",
    "execution": {
     "iopub.execute_input": "2023-03-10T14:13:58.142859Z",
     "iopub.status.busy": "2023-03-10T14:13:58.141730Z",
     "iopub.status.idle": "2023-03-10T14:13:58.161337Z",
     "shell.execute_reply": "2023-03-10T14:13:58.159995Z"
    },
    "papermill": {
     "duration": 0.039612,
     "end_time": "2023-03-10T14:13:58.164913",
     "exception": false,
     "start_time": "2023-03-10T14:13:58.125301",
     "status": "completed"
    },
    "tags": []
   },
   "outputs": [
    {
     "name": "stdout",
     "output_type": "stream",
     "text": [
      "/kaggle/input/titanic/train.csv\n",
      "/kaggle/input/titanic/test.csv\n",
      "/kaggle/input/titanic/gender_submission.csv\n"
     ]
    }
   ],
   "source": [
    "\n",
    "import numpy as np # linear algebra\n",
    "import pandas as pd # data processing, CSV file I/O (e.g. pd.read_csv)\n"
   ]
  },
  {
   "cell_type": "markdown",
   "id": "ca6cc4f3",
   "metadata": {
    "papermill": {
     "duration": 0.011624,
     "end_time": "2023-03-10T14:13:58.189084",
     "exception": false,
     "start_time": "2023-03-10T14:13:58.177460",
     "status": "completed"
    },
    "tags": []
   },
   "source": [
    "# **Data Importing**"
   ]
  },
  {
   "cell_type": "code",
   "execution_count": 2,
   "id": "550b7079",
   "metadata": {
    "execution": {
     "iopub.execute_input": "2023-03-10T14:13:58.216211Z",
     "iopub.status.busy": "2023-03-10T14:13:58.215740Z",
     "iopub.status.idle": "2023-03-10T14:13:58.269116Z",
     "shell.execute_reply": "2023-03-10T14:13:58.267780Z"
    },
    "papermill": {
     "duration": 0.070601,
     "end_time": "2023-03-10T14:13:58.272088",
     "exception": false,
     "start_time": "2023-03-10T14:13:58.201487",
     "status": "completed"
    },
    "tags": []
   },
   "outputs": [
    {
     "data": {
      "text/html": [
       "<div>\n",
       "<style scoped>\n",
       "    .dataframe tbody tr th:only-of-type {\n",
       "        vertical-align: middle;\n",
       "    }\n",
       "\n",
       "    .dataframe tbody tr th {\n",
       "        vertical-align: top;\n",
       "    }\n",
       "\n",
       "    .dataframe thead th {\n",
       "        text-align: right;\n",
       "    }\n",
       "</style>\n",
       "<table border=\"1\" class=\"dataframe\">\n",
       "  <thead>\n",
       "    <tr style=\"text-align: right;\">\n",
       "      <th></th>\n",
       "      <th>PassengerId</th>\n",
       "      <th>Survived</th>\n",
       "      <th>Pclass</th>\n",
       "      <th>Name</th>\n",
       "      <th>Sex</th>\n",
       "      <th>Age</th>\n",
       "      <th>SibSp</th>\n",
       "      <th>Parch</th>\n",
       "      <th>Ticket</th>\n",
       "      <th>Fare</th>\n",
       "      <th>Cabin</th>\n",
       "      <th>Embarked</th>\n",
       "    </tr>\n",
       "  </thead>\n",
       "  <tbody>\n",
       "    <tr>\n",
       "      <th>0</th>\n",
       "      <td>1</td>\n",
       "      <td>0</td>\n",
       "      <td>3</td>\n",
       "      <td>Braund, Mr. Owen Harris</td>\n",
       "      <td>male</td>\n",
       "      <td>22.0</td>\n",
       "      <td>1</td>\n",
       "      <td>0</td>\n",
       "      <td>A/5 21171</td>\n",
       "      <td>7.2500</td>\n",
       "      <td>NaN</td>\n",
       "      <td>S</td>\n",
       "    </tr>\n",
       "    <tr>\n",
       "      <th>1</th>\n",
       "      <td>2</td>\n",
       "      <td>1</td>\n",
       "      <td>1</td>\n",
       "      <td>Cumings, Mrs. John Bradley (Florence Briggs Th...</td>\n",
       "      <td>female</td>\n",
       "      <td>38.0</td>\n",
       "      <td>1</td>\n",
       "      <td>0</td>\n",
       "      <td>PC 17599</td>\n",
       "      <td>71.2833</td>\n",
       "      <td>C85</td>\n",
       "      <td>C</td>\n",
       "    </tr>\n",
       "    <tr>\n",
       "      <th>2</th>\n",
       "      <td>3</td>\n",
       "      <td>1</td>\n",
       "      <td>3</td>\n",
       "      <td>Heikkinen, Miss. Laina</td>\n",
       "      <td>female</td>\n",
       "      <td>26.0</td>\n",
       "      <td>0</td>\n",
       "      <td>0</td>\n",
       "      <td>STON/O2. 3101282</td>\n",
       "      <td>7.9250</td>\n",
       "      <td>NaN</td>\n",
       "      <td>S</td>\n",
       "    </tr>\n",
       "    <tr>\n",
       "      <th>3</th>\n",
       "      <td>4</td>\n",
       "      <td>1</td>\n",
       "      <td>1</td>\n",
       "      <td>Futrelle, Mrs. Jacques Heath (Lily May Peel)</td>\n",
       "      <td>female</td>\n",
       "      <td>35.0</td>\n",
       "      <td>1</td>\n",
       "      <td>0</td>\n",
       "      <td>113803</td>\n",
       "      <td>53.1000</td>\n",
       "      <td>C123</td>\n",
       "      <td>S</td>\n",
       "    </tr>\n",
       "    <tr>\n",
       "      <th>4</th>\n",
       "      <td>5</td>\n",
       "      <td>0</td>\n",
       "      <td>3</td>\n",
       "      <td>Allen, Mr. William Henry</td>\n",
       "      <td>male</td>\n",
       "      <td>35.0</td>\n",
       "      <td>0</td>\n",
       "      <td>0</td>\n",
       "      <td>373450</td>\n",
       "      <td>8.0500</td>\n",
       "      <td>NaN</td>\n",
       "      <td>S</td>\n",
       "    </tr>\n",
       "  </tbody>\n",
       "</table>\n",
       "</div>"
      ],
      "text/plain": [
       "   PassengerId  Survived  Pclass  \\\n",
       "0            1         0       3   \n",
       "1            2         1       1   \n",
       "2            3         1       3   \n",
       "3            4         1       1   \n",
       "4            5         0       3   \n",
       "\n",
       "                                                Name     Sex   Age  SibSp  \\\n",
       "0                            Braund, Mr. Owen Harris    male  22.0      1   \n",
       "1  Cumings, Mrs. John Bradley (Florence Briggs Th...  female  38.0      1   \n",
       "2                             Heikkinen, Miss. Laina  female  26.0      0   \n",
       "3       Futrelle, Mrs. Jacques Heath (Lily May Peel)  female  35.0      1   \n",
       "4                           Allen, Mr. William Henry    male  35.0      0   \n",
       "\n",
       "   Parch            Ticket     Fare Cabin Embarked  \n",
       "0      0         A/5 21171   7.2500   NaN        S  \n",
       "1      0          PC 17599  71.2833   C85        C  \n",
       "2      0  STON/O2. 3101282   7.9250   NaN        S  \n",
       "3      0            113803  53.1000  C123        S  \n",
       "4      0            373450   8.0500   NaN        S  "
      ]
     },
     "execution_count": 2,
     "metadata": {},
     "output_type": "execute_result"
    }
   ],
   "source": [
    "data = pd.read_csv('train.csv')\n",
    "data.shape\n",
    "data.head()"
   ]
  },
  {
   "cell_type": "markdown",
   "id": "cd8ced32",
   "metadata": {
    "papermill": {
     "duration": 0.012151,
     "end_time": "2023-03-10T14:13:58.298640",
     "exception": false,
     "start_time": "2023-03-10T14:13:58.286489",
     "status": "completed"
    },
    "tags": []
   },
   "source": [
    "# **Data Description**"
   ]
  },
  {
   "cell_type": "code",
   "execution_count": 3,
   "id": "74daaf26",
   "metadata": {
    "execution": {
     "iopub.execute_input": "2023-03-10T14:13:58.325902Z",
     "iopub.status.busy": "2023-03-10T14:13:58.325430Z",
     "iopub.status.idle": "2023-03-10T14:13:58.378732Z",
     "shell.execute_reply": "2023-03-10T14:13:58.377701Z"
    },
    "papermill": {
     "duration": 0.070091,
     "end_time": "2023-03-10T14:13:58.381135",
     "exception": false,
     "start_time": "2023-03-10T14:13:58.311044",
     "status": "completed"
    },
    "tags": []
   },
   "outputs": [
    {
     "data": {
      "text/html": [
       "<div>\n",
       "<style scoped>\n",
       "    .dataframe tbody tr th:only-of-type {\n",
       "        vertical-align: middle;\n",
       "    }\n",
       "\n",
       "    .dataframe tbody tr th {\n",
       "        vertical-align: top;\n",
       "    }\n",
       "\n",
       "    .dataframe thead th {\n",
       "        text-align: right;\n",
       "    }\n",
       "</style>\n",
       "<table border=\"1\" class=\"dataframe\">\n",
       "  <thead>\n",
       "    <tr style=\"text-align: right;\">\n",
       "      <th></th>\n",
       "      <th>PassengerId</th>\n",
       "      <th>Survived</th>\n",
       "      <th>Pclass</th>\n",
       "      <th>Age</th>\n",
       "      <th>SibSp</th>\n",
       "      <th>Parch</th>\n",
       "      <th>Fare</th>\n",
       "    </tr>\n",
       "  </thead>\n",
       "  <tbody>\n",
       "    <tr>\n",
       "      <th>count</th>\n",
       "      <td>891.000000</td>\n",
       "      <td>891.000000</td>\n",
       "      <td>891.000000</td>\n",
       "      <td>714.000000</td>\n",
       "      <td>891.000000</td>\n",
       "      <td>891.000000</td>\n",
       "      <td>891.000000</td>\n",
       "    </tr>\n",
       "    <tr>\n",
       "      <th>mean</th>\n",
       "      <td>446.000000</td>\n",
       "      <td>0.383838</td>\n",
       "      <td>2.308642</td>\n",
       "      <td>29.699118</td>\n",
       "      <td>0.523008</td>\n",
       "      <td>0.381594</td>\n",
       "      <td>32.204208</td>\n",
       "    </tr>\n",
       "    <tr>\n",
       "      <th>std</th>\n",
       "      <td>257.353842</td>\n",
       "      <td>0.486592</td>\n",
       "      <td>0.836071</td>\n",
       "      <td>14.526497</td>\n",
       "      <td>1.102743</td>\n",
       "      <td>0.806057</td>\n",
       "      <td>49.693429</td>\n",
       "    </tr>\n",
       "    <tr>\n",
       "      <th>min</th>\n",
       "      <td>1.000000</td>\n",
       "      <td>0.000000</td>\n",
       "      <td>1.000000</td>\n",
       "      <td>0.420000</td>\n",
       "      <td>0.000000</td>\n",
       "      <td>0.000000</td>\n",
       "      <td>0.000000</td>\n",
       "    </tr>\n",
       "    <tr>\n",
       "      <th>25%</th>\n",
       "      <td>223.500000</td>\n",
       "      <td>0.000000</td>\n",
       "      <td>2.000000</td>\n",
       "      <td>20.125000</td>\n",
       "      <td>0.000000</td>\n",
       "      <td>0.000000</td>\n",
       "      <td>7.910400</td>\n",
       "    </tr>\n",
       "    <tr>\n",
       "      <th>50%</th>\n",
       "      <td>446.000000</td>\n",
       "      <td>0.000000</td>\n",
       "      <td>3.000000</td>\n",
       "      <td>28.000000</td>\n",
       "      <td>0.000000</td>\n",
       "      <td>0.000000</td>\n",
       "      <td>14.454200</td>\n",
       "    </tr>\n",
       "    <tr>\n",
       "      <th>75%</th>\n",
       "      <td>668.500000</td>\n",
       "      <td>1.000000</td>\n",
       "      <td>3.000000</td>\n",
       "      <td>38.000000</td>\n",
       "      <td>1.000000</td>\n",
       "      <td>0.000000</td>\n",
       "      <td>31.000000</td>\n",
       "    </tr>\n",
       "    <tr>\n",
       "      <th>max</th>\n",
       "      <td>891.000000</td>\n",
       "      <td>1.000000</td>\n",
       "      <td>3.000000</td>\n",
       "      <td>80.000000</td>\n",
       "      <td>8.000000</td>\n",
       "      <td>6.000000</td>\n",
       "      <td>512.329200</td>\n",
       "    </tr>\n",
       "  </tbody>\n",
       "</table>\n",
       "</div>"
      ],
      "text/plain": [
       "       PassengerId    Survived      Pclass         Age       SibSp  \\\n",
       "count   891.000000  891.000000  891.000000  714.000000  891.000000   \n",
       "mean    446.000000    0.383838    2.308642   29.699118    0.523008   \n",
       "std     257.353842    0.486592    0.836071   14.526497    1.102743   \n",
       "min       1.000000    0.000000    1.000000    0.420000    0.000000   \n",
       "25%     223.500000    0.000000    2.000000   20.125000    0.000000   \n",
       "50%     446.000000    0.000000    3.000000   28.000000    0.000000   \n",
       "75%     668.500000    1.000000    3.000000   38.000000    1.000000   \n",
       "max     891.000000    1.000000    3.000000   80.000000    8.000000   \n",
       "\n",
       "            Parch        Fare  \n",
       "count  891.000000  891.000000  \n",
       "mean     0.381594   32.204208  \n",
       "std      0.806057   49.693429  \n",
       "min      0.000000    0.000000  \n",
       "25%      0.000000    7.910400  \n",
       "50%      0.000000   14.454200  \n",
       "75%      0.000000   31.000000  \n",
       "max      6.000000  512.329200  "
      ]
     },
     "execution_count": 3,
     "metadata": {},
     "output_type": "execute_result"
    }
   ],
   "source": [
    "data.describe()"
   ]
  },
  {
   "cell_type": "code",
   "execution_count": 4,
   "id": "6696d1a9",
   "metadata": {
    "execution": {
     "iopub.execute_input": "2023-03-10T14:13:58.408645Z",
     "iopub.status.busy": "2023-03-10T14:13:58.408149Z",
     "iopub.status.idle": "2023-03-10T14:13:58.428467Z",
     "shell.execute_reply": "2023-03-10T14:13:58.426572Z"
    },
    "papermill": {
     "duration": 0.038032,
     "end_time": "2023-03-10T14:13:58.431866",
     "exception": false,
     "start_time": "2023-03-10T14:13:58.393834",
     "status": "completed"
    },
    "tags": []
   },
   "outputs": [
    {
     "name": "stdout",
     "output_type": "stream",
     "text": [
      "<class 'pandas.core.frame.DataFrame'>\n",
      "RangeIndex: 891 entries, 0 to 890\n",
      "Data columns (total 12 columns):\n",
      " #   Column       Non-Null Count  Dtype  \n",
      "---  ------       --------------  -----  \n",
      " 0   PassengerId  891 non-null    int64  \n",
      " 1   Survived     891 non-null    int64  \n",
      " 2   Pclass       891 non-null    int64  \n",
      " 3   Name         891 non-null    object \n",
      " 4   Sex          891 non-null    object \n",
      " 5   Age          714 non-null    float64\n",
      " 6   SibSp        891 non-null    int64  \n",
      " 7   Parch        891 non-null    int64  \n",
      " 8   Ticket       891 non-null    object \n",
      " 9   Fare         891 non-null    float64\n",
      " 10  Cabin        204 non-null    object \n",
      " 11  Embarked     889 non-null    object \n",
      "dtypes: float64(2), int64(5), object(5)\n",
      "memory usage: 83.7+ KB\n"
     ]
    }
   ],
   "source": [
    "data.info()"
   ]
  },
  {
   "cell_type": "markdown",
   "id": "91cc88d6",
   "metadata": {
    "papermill": {
     "duration": 0.012365,
     "end_time": "2023-03-10T14:13:58.457893",
     "exception": false,
     "start_time": "2023-03-10T14:13:58.445528",
     "status": "completed"
    },
    "tags": []
   },
   "source": [
    "# **Data Cleaning**"
   ]
  },
  {
   "cell_type": "code",
   "execution_count": 5,
   "id": "b93573c0",
   "metadata": {
    "execution": {
     "iopub.execute_input": "2023-03-10T14:13:58.486708Z",
     "iopub.status.busy": "2023-03-10T14:13:58.485315Z",
     "iopub.status.idle": "2023-03-10T14:13:58.502484Z",
     "shell.execute_reply": "2023-03-10T14:13:58.501066Z"
    },
    "papermill": {
     "duration": 0.034581,
     "end_time": "2023-03-10T14:13:58.505258",
     "exception": false,
     "start_time": "2023-03-10T14:13:58.470677",
     "status": "completed"
    },
    "tags": []
   },
   "outputs": [
    {
     "data": {
      "text/plain": [
       "(891, 12)"
      ]
     },
     "execution_count": 5,
     "metadata": {},
     "output_type": "execute_result"
    }
   ],
   "source": [
    "# Dropping Duplicates\n",
    "data = data.drop_duplicates()\n",
    "data.shape"
   ]
  },
  {
   "cell_type": "code",
   "execution_count": 6,
   "id": "8d700ca4",
   "metadata": {
    "execution": {
     "iopub.execute_input": "2023-03-10T14:13:58.534347Z",
     "iopub.status.busy": "2023-03-10T14:13:58.533087Z",
     "iopub.status.idle": "2023-03-10T14:13:58.545043Z",
     "shell.execute_reply": "2023-03-10T14:13:58.543651Z"
    },
    "papermill": {
     "duration": 0.029364,
     "end_time": "2023-03-10T14:13:58.547591",
     "exception": false,
     "start_time": "2023-03-10T14:13:58.518227",
     "status": "completed"
    },
    "tags": []
   },
   "outputs": [
    {
     "data": {
      "text/plain": [
       "PassengerId      0\n",
       "Survived         0\n",
       "Pclass           0\n",
       "Name             0\n",
       "Sex              0\n",
       "Age            177\n",
       "SibSp            0\n",
       "Parch            0\n",
       "Ticket           0\n",
       "Fare             0\n",
       "Cabin          687\n",
       "Embarked         2\n",
       "dtype: int64"
      ]
     },
     "execution_count": 6,
     "metadata": {},
     "output_type": "execute_result"
    }
   ],
   "source": [
    "# Checking null values\n",
    "data.isnull().sum()"
   ]
  },
  {
   "cell_type": "markdown",
   "id": "04e3cf25",
   "metadata": {
    "papermill": {
     "duration": 0.013106,
     "end_time": "2023-03-10T14:13:58.573877",
     "exception": false,
     "start_time": "2023-03-10T14:13:58.560771",
     "status": "completed"
    },
    "tags": []
   },
   "source": [
    "* **There are 177 null values in Age column**\n",
    "* **2 null values in Embarked column**"
   ]
  },
  {
   "cell_type": "code",
   "execution_count": 7,
   "id": "28384e04",
   "metadata": {
    "execution": {
     "iopub.execute_input": "2023-03-10T14:13:58.601753Z",
     "iopub.status.busy": "2023-03-10T14:13:58.601246Z",
     "iopub.status.idle": "2023-03-10T14:14:00.060089Z",
     "shell.execute_reply": "2023-03-10T14:14:00.058933Z"
    },
    "papermill": {
     "duration": 1.476455,
     "end_time": "2023-03-10T14:14:00.063191",
     "exception": false,
     "start_time": "2023-03-10T14:13:58.586736",
     "status": "completed"
    },
    "tags": []
   },
   "outputs": [],
   "source": [
    "from sklearn.impute import SimpleImputer\n",
    "median_imp = SimpleImputer(strategy=\"median\")\n",
    "mode_imp = SimpleImputer(strategy=\"most_frequent\")\n",
    "const_imp = SimpleImputer(strategy=\"constant\",fill_value=0)"
   ]
  },
  {
   "cell_type": "code",
   "execution_count": 8,
   "id": "d364741d",
   "metadata": {
    "execution": {
     "iopub.execute_input": "2023-03-10T14:14:00.091727Z",
     "iopub.status.busy": "2023-03-10T14:14:00.091176Z",
     "iopub.status.idle": "2023-03-10T14:14:00.107342Z",
     "shell.execute_reply": "2023-03-10T14:14:00.106196Z"
    },
    "papermill": {
     "duration": 0.033322,
     "end_time": "2023-03-10T14:14:00.109885",
     "exception": false,
     "start_time": "2023-03-10T14:14:00.076563",
     "status": "completed"
    },
    "tags": []
   },
   "outputs": [
    {
     "data": {
      "text/plain": [
       "PassengerId      0\n",
       "Survived         0\n",
       "Pclass           0\n",
       "Name             0\n",
       "Sex              0\n",
       "Age            177\n",
       "SibSp            0\n",
       "Parch            0\n",
       "Ticket           0\n",
       "Fare             0\n",
       "Cabin          687\n",
       "Embarked         0\n",
       "dtype: int64"
      ]
     },
     "execution_count": 8,
     "metadata": {},
     "output_type": "execute_result"
    }
   ],
   "source": [
    "# Fill missing values in embarked with mode\n",
    "data['Embarked'] = mode_imp.fit_transform(data[['Embarked']])\n",
    "data.isna().sum()"
   ]
  },
  {
   "cell_type": "code",
   "execution_count": 9,
   "id": "ec2e16c1",
   "metadata": {
    "execution": {
     "iopub.execute_input": "2023-03-10T14:14:00.138536Z",
     "iopub.status.busy": "2023-03-10T14:14:00.138014Z",
     "iopub.status.idle": "2023-03-10T14:14:00.149546Z",
     "shell.execute_reply": "2023-03-10T14:14:00.148233Z"
    },
    "papermill": {
     "duration": 0.029812,
     "end_time": "2023-03-10T14:14:00.152756",
     "exception": false,
     "start_time": "2023-03-10T14:14:00.122944",
     "status": "completed"
    },
    "tags": []
   },
   "outputs": [],
   "source": [
    "# Fill missing values in Age column with median\n",
    "data['Age'] = median_imp.fit_transform(data[['Age']])"
   ]
  },
  {
   "cell_type": "code",
   "execution_count": 10,
   "id": "c5ec01d5",
   "metadata": {
    "execution": {
     "iopub.execute_input": "2023-03-10T14:14:00.181344Z",
     "iopub.status.busy": "2023-03-10T14:14:00.180836Z",
     "iopub.status.idle": "2023-03-10T14:14:00.193828Z",
     "shell.execute_reply": "2023-03-10T14:14:00.192198Z"
    },
    "papermill": {
     "duration": 0.031146,
     "end_time": "2023-03-10T14:14:00.196941",
     "exception": false,
     "start_time": "2023-03-10T14:14:00.165795",
     "status": "completed"
    },
    "tags": []
   },
   "outputs": [
    {
     "name": "stdout",
     "output_type": "stream",
     "text": [
      "28.0\n"
     ]
    },
    {
     "data": {
      "text/plain": [
       "PassengerId      0\n",
       "Survived         0\n",
       "Pclass           0\n",
       "Name             0\n",
       "Sex              0\n",
       "Age              0\n",
       "SibSp            0\n",
       "Parch            0\n",
       "Ticket           0\n",
       "Fare             0\n",
       "Cabin          687\n",
       "Embarked         0\n",
       "dtype: int64"
      ]
     },
     "execution_count": 10,
     "metadata": {},
     "output_type": "execute_result"
    }
   ],
   "source": [
    "print(data['Age'].median())\n",
    "data.isna().sum()"
   ]
  },
  {
   "cell_type": "code",
   "execution_count": 11,
   "id": "42dc5371",
   "metadata": {
    "execution": {
     "iopub.execute_input": "2023-03-10T14:14:00.226169Z",
     "iopub.status.busy": "2023-03-10T14:14:00.225690Z",
     "iopub.status.idle": "2023-03-10T14:14:00.236076Z",
     "shell.execute_reply": "2023-03-10T14:14:00.234672Z"
    },
    "papermill": {
     "duration": 0.028457,
     "end_time": "2023-03-10T14:14:00.238866",
     "exception": false,
     "start_time": "2023-03-10T14:14:00.210409",
     "status": "completed"
    },
    "tags": []
   },
   "outputs": [],
   "source": [
    "data['Fare'] = const_imp.fit_transform(data[['Fare']])"
   ]
  },
  {
   "cell_type": "code",
   "execution_count": 12,
   "id": "6ef19bc8",
   "metadata": {
    "execution": {
     "iopub.execute_input": "2023-03-10T14:14:00.267496Z",
     "iopub.status.busy": "2023-03-10T14:14:00.267029Z",
     "iopub.status.idle": "2023-03-10T14:14:00.585696Z",
     "shell.execute_reply": "2023-03-10T14:14:00.584615Z"
    },
    "papermill": {
     "duration": 0.336697,
     "end_time": "2023-03-10T14:14:00.588838",
     "exception": false,
     "start_time": "2023-03-10T14:14:00.252141",
     "status": "completed"
    },
    "tags": []
   },
   "outputs": [],
   "source": [
    "import seaborn as sns\n",
    "import warnings; warnings.filterwarnings(\"ignore\")"
   ]
  },
  {
   "cell_type": "code",
   "execution_count": 13,
   "id": "bf0428d0",
   "metadata": {
    "execution": {
     "iopub.execute_input": "2023-03-10T14:14:00.617468Z",
     "iopub.status.busy": "2023-03-10T14:14:00.616985Z",
     "iopub.status.idle": "2023-03-10T14:14:00.628572Z",
     "shell.execute_reply": "2023-03-10T14:14:00.627292Z"
    },
    "papermill": {
     "duration": 0.029136,
     "end_time": "2023-03-10T14:14:00.631248",
     "exception": false,
     "start_time": "2023-03-10T14:14:00.602112",
     "status": "completed"
    },
    "tags": []
   },
   "outputs": [
    {
     "data": {
      "text/plain": [
       "PassengerId      0\n",
       "Survived         0\n",
       "Pclass           0\n",
       "Name             0\n",
       "Sex              0\n",
       "Age              0\n",
       "SibSp            0\n",
       "Parch            0\n",
       "Ticket           0\n",
       "Fare             0\n",
       "Cabin          687\n",
       "Embarked         0\n",
       "dtype: int64"
      ]
     },
     "execution_count": 13,
     "metadata": {},
     "output_type": "execute_result"
    }
   ],
   "source": [
    "data.shape\n",
    "data.isna().sum()"
   ]
  },
  {
   "cell_type": "markdown",
   "id": "f5af5be0",
   "metadata": {
    "papermill": {
     "duration": 0.012996,
     "end_time": "2023-03-10T14:14:00.657818",
     "exception": false,
     "start_time": "2023-03-10T14:14:00.644822",
     "status": "completed"
    },
    "tags": []
   },
   "source": [
    "## Feature Embedding\n"
   ]
  },
  {
   "cell_type": "code",
   "execution_count": 14,
   "id": "6f1b15b3",
   "metadata": {
    "execution": {
     "iopub.execute_input": "2023-03-10T14:14:00.687945Z",
     "iopub.status.busy": "2023-03-10T14:14:00.687479Z",
     "iopub.status.idle": "2023-03-10T14:14:00.708832Z",
     "shell.execute_reply": "2023-03-10T14:14:00.707304Z"
    },
    "papermill": {
     "duration": 0.040879,
     "end_time": "2023-03-10T14:14:00.712130",
     "exception": false,
     "start_time": "2023-03-10T14:14:00.671251",
     "status": "completed"
    },
    "tags": []
   },
   "outputs": [],
   "source": [
    "# Segmenting Sex column as per Age, Age less than 18 as Child, Age greater than 18 as Males and Females as per their gender.\n",
    "data['GenderClass'] = data.apply(lambda x: 'child' if x['Age'] < 18 else x['Sex'],axis=1)"
   ]
  },
  {
   "cell_type": "code",
   "execution_count": 15,
   "id": "ccb7e725",
   "metadata": {
    "execution": {
     "iopub.execute_input": "2023-03-10T14:14:00.741526Z",
     "iopub.status.busy": "2023-03-10T14:14:00.741004Z",
     "iopub.status.idle": "2023-03-10T14:14:00.748561Z",
     "shell.execute_reply": "2023-03-10T14:14:00.747251Z"
    },
    "papermill": {
     "duration": 0.025329,
     "end_time": "2023-03-10T14:14:00.751168",
     "exception": false,
     "start_time": "2023-03-10T14:14:00.725839",
     "status": "completed"
    },
    "tags": []
   },
   "outputs": [],
   "source": [
    "# Creating a new feature FamilySize from Sibsp and Parch\n",
    "data['FamilySize'] = data['SibSp'] + data['Parch'] + 1"
   ]
  },
  {
   "cell_type": "code",
   "execution_count": 16,
   "id": "2e28d979",
   "metadata": {
    "execution": {
     "iopub.execute_input": "2023-03-10T14:14:00.780534Z",
     "iopub.status.busy": "2023-03-10T14:14:00.779539Z",
     "iopub.status.idle": "2023-03-10T14:14:00.787850Z",
     "shell.execute_reply": "2023-03-10T14:14:00.786552Z"
    },
    "papermill": {
     "duration": 0.026014,
     "end_time": "2023-03-10T14:14:00.790593",
     "exception": false,
     "start_time": "2023-03-10T14:14:00.764579",
     "status": "completed"
    },
    "tags": []
   },
   "outputs": [],
   "source": [
    "# Dropping unnecessary columns like Name, PassengeId, Ticket and Cabin because of too many missing values.\n",
    "# Also drop gender column\n",
    "data = data.drop(labels=['PassengerId','Name','Ticket','Cabin','SibSp','Parch','Sex'],axis=1)"
   ]
  },
  {
   "cell_type": "code",
   "execution_count": 17,
   "id": "79e9e7e6",
   "metadata": {
    "execution": {
     "iopub.execute_input": "2023-03-10T14:14:00.821075Z",
     "iopub.status.busy": "2023-03-10T14:14:00.819758Z",
     "iopub.status.idle": "2023-03-10T14:14:00.836732Z",
     "shell.execute_reply": "2023-03-10T14:14:00.835378Z"
    },
    "papermill": {
     "duration": 0.035521,
     "end_time": "2023-03-10T14:14:00.839791",
     "exception": false,
     "start_time": "2023-03-10T14:14:00.804270",
     "status": "completed"
    },
    "tags": []
   },
   "outputs": [
    {
     "data": {
      "text/html": [
       "<div>\n",
       "<style scoped>\n",
       "    .dataframe tbody tr th:only-of-type {\n",
       "        vertical-align: middle;\n",
       "    }\n",
       "\n",
       "    .dataframe tbody tr th {\n",
       "        vertical-align: top;\n",
       "    }\n",
       "\n",
       "    .dataframe thead th {\n",
       "        text-align: right;\n",
       "    }\n",
       "</style>\n",
       "<table border=\"1\" class=\"dataframe\">\n",
       "  <thead>\n",
       "    <tr style=\"text-align: right;\">\n",
       "      <th></th>\n",
       "      <th>Survived</th>\n",
       "      <th>Pclass</th>\n",
       "      <th>Age</th>\n",
       "      <th>Fare</th>\n",
       "      <th>Embarked</th>\n",
       "      <th>GenderClass</th>\n",
       "      <th>FamilySize</th>\n",
       "    </tr>\n",
       "  </thead>\n",
       "  <tbody>\n",
       "    <tr>\n",
       "      <th>0</th>\n",
       "      <td>0</td>\n",
       "      <td>3</td>\n",
       "      <td>22.0</td>\n",
       "      <td>7.2500</td>\n",
       "      <td>S</td>\n",
       "      <td>male</td>\n",
       "      <td>2</td>\n",
       "    </tr>\n",
       "    <tr>\n",
       "      <th>1</th>\n",
       "      <td>1</td>\n",
       "      <td>1</td>\n",
       "      <td>38.0</td>\n",
       "      <td>71.2833</td>\n",
       "      <td>C</td>\n",
       "      <td>female</td>\n",
       "      <td>2</td>\n",
       "    </tr>\n",
       "    <tr>\n",
       "      <th>2</th>\n",
       "      <td>1</td>\n",
       "      <td>3</td>\n",
       "      <td>26.0</td>\n",
       "      <td>7.9250</td>\n",
       "      <td>S</td>\n",
       "      <td>female</td>\n",
       "      <td>1</td>\n",
       "    </tr>\n",
       "    <tr>\n",
       "      <th>3</th>\n",
       "      <td>1</td>\n",
       "      <td>1</td>\n",
       "      <td>35.0</td>\n",
       "      <td>53.1000</td>\n",
       "      <td>S</td>\n",
       "      <td>female</td>\n",
       "      <td>2</td>\n",
       "    </tr>\n",
       "    <tr>\n",
       "      <th>4</th>\n",
       "      <td>0</td>\n",
       "      <td>3</td>\n",
       "      <td>35.0</td>\n",
       "      <td>8.0500</td>\n",
       "      <td>S</td>\n",
       "      <td>male</td>\n",
       "      <td>1</td>\n",
       "    </tr>\n",
       "  </tbody>\n",
       "</table>\n",
       "</div>"
      ],
      "text/plain": [
       "   Survived  Pclass   Age     Fare Embarked GenderClass  FamilySize\n",
       "0         0       3  22.0   7.2500        S        male           2\n",
       "1         1       1  38.0  71.2833        C      female           2\n",
       "2         1       3  26.0   7.9250        S      female           1\n",
       "3         1       1  35.0  53.1000        S      female           2\n",
       "4         0       3  35.0   8.0500        S        male           1"
      ]
     },
     "execution_count": 17,
     "metadata": {},
     "output_type": "execute_result"
    }
   ],
   "source": [
    "data.head()"
   ]
  },
  {
   "cell_type": "code",
   "execution_count": 18,
   "id": "c015a5be",
   "metadata": {
    "execution": {
     "iopub.execute_input": "2023-03-10T14:14:00.869943Z",
     "iopub.status.busy": "2023-03-10T14:14:00.869426Z",
     "iopub.status.idle": "2023-03-10T14:14:00.875271Z",
     "shell.execute_reply": "2023-03-10T14:14:00.873938Z"
    },
    "papermill": {
     "duration": 0.024375,
     "end_time": "2023-03-10T14:14:00.878195",
     "exception": false,
     "start_time": "2023-03-10T14:14:00.853820",
     "status": "completed"
    },
    "tags": []
   },
   "outputs": [],
   "source": [
    "# Data is Clean"
   ]
  },
  {
   "cell_type": "markdown",
   "id": "4740088d",
   "metadata": {
    "papermill": {
     "duration": 0.013014,
     "end_time": "2023-03-10T14:14:00.905319",
     "exception": false,
     "start_time": "2023-03-10T14:14:00.892305",
     "status": "completed"
    },
    "tags": []
   },
   "source": [
    "# **Data Preprocessing**"
   ]
  },
  {
   "cell_type": "code",
   "execution_count": 19,
   "id": "1ee51aba",
   "metadata": {
    "execution": {
     "iopub.execute_input": "2023-03-10T14:14:00.935092Z",
     "iopub.status.busy": "2023-03-10T14:14:00.934592Z",
     "iopub.status.idle": "2023-03-10T14:14:00.939924Z",
     "shell.execute_reply": "2023-03-10T14:14:00.938674Z"
    },
    "papermill": {
     "duration": 0.023385,
     "end_time": "2023-03-10T14:14:00.942431",
     "exception": false,
     "start_time": "2023-03-10T14:14:00.919046",
     "status": "completed"
    },
    "tags": []
   },
   "outputs": [],
   "source": [
    "from sklearn.preprocessing import MinMaxScaler, RobustScaler"
   ]
  },
  {
   "cell_type": "code",
   "execution_count": 20,
   "id": "3851d322",
   "metadata": {
    "execution": {
     "iopub.execute_input": "2023-03-10T14:14:00.971675Z",
     "iopub.status.busy": "2023-03-10T14:14:00.971174Z",
     "iopub.status.idle": "2023-03-10T14:14:00.982621Z",
     "shell.execute_reply": "2023-03-10T14:14:00.981670Z"
    },
    "papermill": {
     "duration": 0.029235,
     "end_time": "2023-03-10T14:14:00.985294",
     "exception": false,
     "start_time": "2023-03-10T14:14:00.956059",
     "status": "completed"
    },
    "tags": []
   },
   "outputs": [],
   "source": [
    "# Dummification of GenderClass & Embarked.\n",
    "data = pd.get_dummies(data, columns=['GenderClass','Embarked'], drop_first=True)"
   ]
  },
  {
   "cell_type": "code",
   "execution_count": 21,
   "id": "b8549098",
   "metadata": {
    "execution": {
     "iopub.execute_input": "2023-03-10T14:14:01.015207Z",
     "iopub.status.busy": "2023-03-10T14:14:01.014113Z",
     "iopub.status.idle": "2023-03-10T14:14:01.019692Z",
     "shell.execute_reply": "2023-03-10T14:14:01.018317Z"
    },
    "papermill": {
     "duration": 0.023491,
     "end_time": "2023-03-10T14:14:01.022454",
     "exception": false,
     "start_time": "2023-03-10T14:14:00.998963",
     "status": "completed"
    },
    "tags": []
   },
   "outputs": [],
   "source": [
    "# mm_scale = MinMaxScaler()\n",
    "# data['Age'] = mm_scale.fit_transform(data[['Age']])"
   ]
  },
  {
   "cell_type": "code",
   "execution_count": 22,
   "id": "0194dc34",
   "metadata": {
    "execution": {
     "iopub.execute_input": "2023-03-10T14:14:01.052578Z",
     "iopub.status.busy": "2023-03-10T14:14:01.051773Z",
     "iopub.status.idle": "2023-03-10T14:14:01.056744Z",
     "shell.execute_reply": "2023-03-10T14:14:01.055827Z"
    },
    "papermill": {
     "duration": 0.02337,
     "end_time": "2023-03-10T14:14:01.059357",
     "exception": false,
     "start_time": "2023-03-10T14:14:01.035987",
     "status": "completed"
    },
    "tags": []
   },
   "outputs": [],
   "source": [
    "# r_scale = RobustScaler()\n",
    "# data['Fare'] = r_scale.fit_transform(data[['Fare']])"
   ]
  },
  {
   "cell_type": "code",
   "execution_count": 23,
   "id": "34a05cf6",
   "metadata": {
    "execution": {
     "iopub.execute_input": "2023-03-10T14:14:01.089430Z",
     "iopub.status.busy": "2023-03-10T14:14:01.088561Z",
     "iopub.status.idle": "2023-03-10T14:14:01.103790Z",
     "shell.execute_reply": "2023-03-10T14:14:01.102473Z"
    },
    "papermill": {
     "duration": 0.033621,
     "end_time": "2023-03-10T14:14:01.106645",
     "exception": false,
     "start_time": "2023-03-10T14:14:01.073024",
     "status": "completed"
    },
    "tags": []
   },
   "outputs": [
    {
     "data": {
      "text/html": [
       "<div>\n",
       "<style scoped>\n",
       "    .dataframe tbody tr th:only-of-type {\n",
       "        vertical-align: middle;\n",
       "    }\n",
       "\n",
       "    .dataframe tbody tr th {\n",
       "        vertical-align: top;\n",
       "    }\n",
       "\n",
       "    .dataframe thead th {\n",
       "        text-align: right;\n",
       "    }\n",
       "</style>\n",
       "<table border=\"1\" class=\"dataframe\">\n",
       "  <thead>\n",
       "    <tr style=\"text-align: right;\">\n",
       "      <th></th>\n",
       "      <th>Survived</th>\n",
       "      <th>Pclass</th>\n",
       "      <th>Age</th>\n",
       "      <th>Fare</th>\n",
       "      <th>FamilySize</th>\n",
       "      <th>GenderClass_female</th>\n",
       "      <th>GenderClass_male</th>\n",
       "      <th>Embarked_Q</th>\n",
       "      <th>Embarked_S</th>\n",
       "    </tr>\n",
       "  </thead>\n",
       "  <tbody>\n",
       "    <tr>\n",
       "      <th>0</th>\n",
       "      <td>0</td>\n",
       "      <td>3</td>\n",
       "      <td>22.0</td>\n",
       "      <td>7.2500</td>\n",
       "      <td>2</td>\n",
       "      <td>0</td>\n",
       "      <td>1</td>\n",
       "      <td>0</td>\n",
       "      <td>1</td>\n",
       "    </tr>\n",
       "    <tr>\n",
       "      <th>1</th>\n",
       "      <td>1</td>\n",
       "      <td>1</td>\n",
       "      <td>38.0</td>\n",
       "      <td>71.2833</td>\n",
       "      <td>2</td>\n",
       "      <td>1</td>\n",
       "      <td>0</td>\n",
       "      <td>0</td>\n",
       "      <td>0</td>\n",
       "    </tr>\n",
       "    <tr>\n",
       "      <th>2</th>\n",
       "      <td>1</td>\n",
       "      <td>3</td>\n",
       "      <td>26.0</td>\n",
       "      <td>7.9250</td>\n",
       "      <td>1</td>\n",
       "      <td>1</td>\n",
       "      <td>0</td>\n",
       "      <td>0</td>\n",
       "      <td>1</td>\n",
       "    </tr>\n",
       "    <tr>\n",
       "      <th>3</th>\n",
       "      <td>1</td>\n",
       "      <td>1</td>\n",
       "      <td>35.0</td>\n",
       "      <td>53.1000</td>\n",
       "      <td>2</td>\n",
       "      <td>1</td>\n",
       "      <td>0</td>\n",
       "      <td>0</td>\n",
       "      <td>1</td>\n",
       "    </tr>\n",
       "    <tr>\n",
       "      <th>4</th>\n",
       "      <td>0</td>\n",
       "      <td>3</td>\n",
       "      <td>35.0</td>\n",
       "      <td>8.0500</td>\n",
       "      <td>1</td>\n",
       "      <td>0</td>\n",
       "      <td>1</td>\n",
       "      <td>0</td>\n",
       "      <td>1</td>\n",
       "    </tr>\n",
       "  </tbody>\n",
       "</table>\n",
       "</div>"
      ],
      "text/plain": [
       "   Survived  Pclass   Age     Fare  FamilySize  GenderClass_female  \\\n",
       "0         0       3  22.0   7.2500           2                   0   \n",
       "1         1       1  38.0  71.2833           2                   1   \n",
       "2         1       3  26.0   7.9250           1                   1   \n",
       "3         1       1  35.0  53.1000           2                   1   \n",
       "4         0       3  35.0   8.0500           1                   0   \n",
       "\n",
       "   GenderClass_male  Embarked_Q  Embarked_S  \n",
       "0                 1           0           1  \n",
       "1                 0           0           0  \n",
       "2                 0           0           1  \n",
       "3                 0           0           1  \n",
       "4                 1           0           1  "
      ]
     },
     "execution_count": 23,
     "metadata": {},
     "output_type": "execute_result"
    }
   ],
   "source": [
    "data.head()"
   ]
  },
  {
   "cell_type": "markdown",
   "id": "6a9d2cb8",
   "metadata": {
    "papermill": {
     "duration": 0.014273,
     "end_time": "2023-03-10T14:14:01.135516",
     "exception": false,
     "start_time": "2023-03-10T14:14:01.121243",
     "status": "completed"
    },
    "tags": []
   },
   "source": [
    "**Preparing X and Y data**"
   ]
  },
  {
   "cell_type": "code",
   "execution_count": 24,
   "id": "080a1375",
   "metadata": {
    "execution": {
     "iopub.execute_input": "2023-03-10T14:14:01.166541Z",
     "iopub.status.busy": "2023-03-10T14:14:01.165554Z",
     "iopub.status.idle": "2023-03-10T14:14:01.172795Z",
     "shell.execute_reply": "2023-03-10T14:14:01.171801Z"
    },
    "papermill": {
     "duration": 0.026018,
     "end_time": "2023-03-10T14:14:01.175651",
     "exception": false,
     "start_time": "2023-03-10T14:14:01.149633",
     "status": "completed"
    },
    "tags": []
   },
   "outputs": [],
   "source": [
    "X = data.loc[:,data.columns != 'Survived']"
   ]
  },
  {
   "cell_type": "code",
   "execution_count": 25,
   "id": "87922419",
   "metadata": {
    "execution": {
     "iopub.execute_input": "2023-03-10T14:14:01.205827Z",
     "iopub.status.busy": "2023-03-10T14:14:01.205272Z",
     "iopub.status.idle": "2023-03-10T14:14:01.210704Z",
     "shell.execute_reply": "2023-03-10T14:14:01.209419Z"
    },
    "papermill": {
     "duration": 0.024033,
     "end_time": "2023-03-10T14:14:01.213511",
     "exception": false,
     "start_time": "2023-03-10T14:14:01.189478",
     "status": "completed"
    },
    "tags": []
   },
   "outputs": [],
   "source": [
    "y = data.Survived"
   ]
  },
  {
   "cell_type": "markdown",
   "id": "65e378c3",
   "metadata": {
    "papermill": {
     "duration": 0.01359,
     "end_time": "2023-03-10T14:14:01.242080",
     "exception": false,
     "start_time": "2023-03-10T14:14:01.228490",
     "status": "completed"
    },
    "tags": []
   },
   "source": [
    "**Train-test Splitting**"
   ]
  },
  {
   "cell_type": "code",
   "execution_count": 26,
   "id": "1430a376",
   "metadata": {
    "execution": {
     "iopub.execute_input": "2023-03-10T14:14:01.272638Z",
     "iopub.status.busy": "2023-03-10T14:14:01.272154Z",
     "iopub.status.idle": "2023-03-10T14:14:01.281125Z",
     "shell.execute_reply": "2023-03-10T14:14:01.279811Z"
    },
    "papermill": {
     "duration": 0.027303,
     "end_time": "2023-03-10T14:14:01.283651",
     "exception": false,
     "start_time": "2023-03-10T14:14:01.256348",
     "status": "completed"
    },
    "tags": []
   },
   "outputs": [],
   "source": [
    "from sklearn.model_selection import train_test_split\n",
    "X_train, X_test, y_train, y_test = train_test_split(X, y, test_size=0.20, random_state=78)"
   ]
  },
  {
   "cell_type": "markdown",
   "id": "91d3d33d",
   "metadata": {
    "papermill": {
     "duration": 0.01344,
     "end_time": "2023-03-10T14:14:01.311245",
     "exception": false,
     "start_time": "2023-03-10T14:14:01.297805",
     "status": "completed"
    },
    "tags": []
   },
   "source": [
    "# **Logistic Regression**"
   ]
  },
  {
   "cell_type": "code",
   "execution_count": 27,
   "id": "befee511",
   "metadata": {
    "execution": {
     "iopub.execute_input": "2023-03-10T14:14:01.342111Z",
     "iopub.status.busy": "2023-03-10T14:14:01.340998Z",
     "iopub.status.idle": "2023-03-10T14:14:01.393296Z",
     "shell.execute_reply": "2023-03-10T14:14:01.392024Z"
    },
    "papermill": {
     "duration": 0.070985,
     "end_time": "2023-03-10T14:14:01.396219",
     "exception": false,
     "start_time": "2023-03-10T14:14:01.325234",
     "status": "completed"
    },
    "tags": []
   },
   "outputs": [
    {
     "data": {
      "text/plain": [
       "LogisticRegression()"
      ]
     },
     "execution_count": 27,
     "metadata": {},
     "output_type": "execute_result"
    }
   ],
   "source": [
    "from sklearn.linear_model import LogisticRegression\n",
    "logreg = LogisticRegression()\n",
    "logreg.fit(X_train,y_train)"
   ]
  },
  {
   "cell_type": "code",
   "execution_count": 28,
   "id": "e9491bde",
   "metadata": {
    "execution": {
     "iopub.execute_input": "2023-03-10T14:14:01.426434Z",
     "iopub.status.busy": "2023-03-10T14:14:01.425892Z",
     "iopub.status.idle": "2023-03-10T14:14:01.436230Z",
     "shell.execute_reply": "2023-03-10T14:14:01.435102Z"
    },
    "papermill": {
     "duration": 0.028326,
     "end_time": "2023-03-10T14:14:01.438479",
     "exception": false,
     "start_time": "2023-03-10T14:14:01.410153",
     "status": "completed"
    },
    "tags": []
   },
   "outputs": [],
   "source": [
    "y_pred_train = logreg.predict(X_train)\n",
    "y_pred_test = logreg.predict(X_test)  "
   ]
  },
  {
   "cell_type": "markdown",
   "id": "1e066f5a",
   "metadata": {
    "papermill": {
     "duration": 0.013332,
     "end_time": "2023-03-10T14:14:01.465726",
     "exception": false,
     "start_time": "2023-03-10T14:14:01.452394",
     "status": "completed"
    },
    "tags": []
   },
   "source": [
    "# **Model Evaluation**"
   ]
  },
  {
   "cell_type": "code",
   "execution_count": 29,
   "id": "475017a8",
   "metadata": {
    "execution": {
     "iopub.execute_input": "2023-03-10T14:14:01.497707Z",
     "iopub.status.busy": "2023-03-10T14:14:01.496813Z",
     "iopub.status.idle": "2023-03-10T14:14:01.501758Z",
     "shell.execute_reply": "2023-03-10T14:14:01.500795Z"
    },
    "papermill": {
     "duration": 0.023149,
     "end_time": "2023-03-10T14:14:01.504108",
     "exception": false,
     "start_time": "2023-03-10T14:14:01.480959",
     "status": "completed"
    },
    "tags": []
   },
   "outputs": [],
   "source": [
    "from sklearn.metrics import accuracy_score, classification_report, confusion_matrix"
   ]
  },
  {
   "cell_type": "code",
   "execution_count": 30,
   "id": "b6b2a2ca",
   "metadata": {
    "execution": {
     "iopub.execute_input": "2023-03-10T14:14:01.534486Z",
     "iopub.status.busy": "2023-03-10T14:14:01.533605Z",
     "iopub.status.idle": "2023-03-10T14:14:01.541863Z",
     "shell.execute_reply": "2023-03-10T14:14:01.540223Z"
    },
    "papermill": {
     "duration": 0.027405,
     "end_time": "2023-03-10T14:14:01.545307",
     "exception": false,
     "start_time": "2023-03-10T14:14:01.517902",
     "status": "completed"
    },
    "tags": []
   },
   "outputs": [
    {
     "name": "stdout",
     "output_type": "stream",
     "text": [
      "0.797752808988764\n",
      "0.8491620111731844\n"
     ]
    }
   ],
   "source": [
    "acc_train = accuracy_score(y_train, y_pred_train)\n",
    "print(acc_train)\n",
    "acc_test = accuracy_score(y_test, y_pred_test)\n",
    "print(acc_test)"
   ]
  },
  {
   "cell_type": "code",
   "execution_count": 31,
   "id": "fb65ec97",
   "metadata": {
    "execution": {
     "iopub.execute_input": "2023-03-10T14:14:01.575578Z",
     "iopub.status.busy": "2023-03-10T14:14:01.575090Z",
     "iopub.status.idle": "2023-03-10T14:14:01.586307Z",
     "shell.execute_reply": "2023-03-10T14:14:01.584452Z"
    },
    "papermill": {
     "duration": 0.029279,
     "end_time": "2023-03-10T14:14:01.588939",
     "exception": false,
     "start_time": "2023-03-10T14:14:01.559660",
     "status": "completed"
    },
    "tags": []
   },
   "outputs": [
    {
     "name": "stdout",
     "output_type": "stream",
     "text": [
      "              precision    recall  f1-score   support\n",
      "\n",
      "           0       0.91      0.85      0.88       116\n",
      "           1       0.76      0.84      0.80        63\n",
      "\n",
      "    accuracy                           0.85       179\n",
      "   macro avg       0.83      0.85      0.84       179\n",
      "weighted avg       0.86      0.85      0.85       179\n",
      "\n"
     ]
    }
   ],
   "source": [
    "print(classification_report(y_test,y_pred_test))"
   ]
  },
  {
   "cell_type": "code",
   "execution_count": 32,
   "id": "df66072b",
   "metadata": {
    "execution": {
     "iopub.execute_input": "2023-03-10T14:14:01.619186Z",
     "iopub.status.busy": "2023-03-10T14:14:01.618711Z",
     "iopub.status.idle": "2023-03-10T14:14:01.633269Z",
     "shell.execute_reply": "2023-03-10T14:14:01.631861Z"
    },
    "papermill": {
     "duration": 0.033551,
     "end_time": "2023-03-10T14:14:01.636449",
     "exception": false,
     "start_time": "2023-03-10T14:14:01.602898",
     "status": "completed"
    },
    "tags": []
   },
   "outputs": [
    {
     "data": {
      "text/html": [
       "<div>\n",
       "<style scoped>\n",
       "    .dataframe tbody tr th:only-of-type {\n",
       "        vertical-align: middle;\n",
       "    }\n",
       "\n",
       "    .dataframe tbody tr th {\n",
       "        vertical-align: top;\n",
       "    }\n",
       "\n",
       "    .dataframe thead th {\n",
       "        text-align: right;\n",
       "    }\n",
       "</style>\n",
       "<table border=\"1\" class=\"dataframe\">\n",
       "  <thead>\n",
       "    <tr style=\"text-align: right;\">\n",
       "      <th></th>\n",
       "      <th>0</th>\n",
       "      <th>1</th>\n",
       "    </tr>\n",
       "  </thead>\n",
       "  <tbody>\n",
       "    <tr>\n",
       "      <th>0</th>\n",
       "      <td>99</td>\n",
       "      <td>17</td>\n",
       "    </tr>\n",
       "    <tr>\n",
       "      <th>1</th>\n",
       "      <td>10</td>\n",
       "      <td>53</td>\n",
       "    </tr>\n",
       "  </tbody>\n",
       "</table>\n",
       "</div>"
      ],
      "text/plain": [
       "    0   1\n",
       "0  99  17\n",
       "1  10  53"
      ]
     },
     "execution_count": 32,
     "metadata": {},
     "output_type": "execute_result"
    }
   ],
   "source": [
    "confusion_matrix = pd.DataFrame(confusion_matrix(y_test, y_pred_test))\n",
    "confusion_matrix"
   ]
  },
  {
   "cell_type": "code",
   "execution_count": 33,
   "id": "3b4a5005",
   "metadata": {
    "execution": {
     "iopub.execute_input": "2023-03-10T14:14:01.667238Z",
     "iopub.status.busy": "2023-03-10T14:14:01.666761Z",
     "iopub.status.idle": "2023-03-10T14:14:01.682750Z",
     "shell.execute_reply": "2023-03-10T14:14:01.681420Z"
    },
    "papermill": {
     "duration": 0.034763,
     "end_time": "2023-03-10T14:14:01.685659",
     "exception": false,
     "start_time": "2023-03-10T14:14:01.650896",
     "status": "completed"
    },
    "tags": []
   },
   "outputs": [
    {
     "data": {
      "text/plain": [
       "(418, 11)"
      ]
     },
     "execution_count": 33,
     "metadata": {},
     "output_type": "execute_result"
    }
   ],
   "source": [
    "test = pd.read_csv('test.csv')\n",
    "df = test\n",
    "df.shape"
   ]
  },
  {
   "cell_type": "code",
   "execution_count": 34,
   "id": "781cfdb5",
   "metadata": {
    "execution": {
     "iopub.execute_input": "2023-03-10T14:14:01.716882Z",
     "iopub.status.busy": "2023-03-10T14:14:01.716347Z",
     "iopub.status.idle": "2023-03-10T14:14:01.727616Z",
     "shell.execute_reply": "2023-03-10T14:14:01.726596Z"
    },
    "papermill": {
     "duration": 0.029939,
     "end_time": "2023-03-10T14:14:01.729994",
     "exception": false,
     "start_time": "2023-03-10T14:14:01.700055",
     "status": "completed"
    },
    "tags": []
   },
   "outputs": [
    {
     "data": {
      "text/plain": [
       "PassengerId      0\n",
       "Pclass           0\n",
       "Name             0\n",
       "Sex              0\n",
       "Age             86\n",
       "SibSp            0\n",
       "Parch            0\n",
       "Ticket           0\n",
       "Fare             1\n",
       "Cabin          327\n",
       "Embarked         0\n",
       "dtype: int64"
      ]
     },
     "execution_count": 34,
     "metadata": {},
     "output_type": "execute_result"
    }
   ],
   "source": [
    "df.isnull().sum()"
   ]
  },
  {
   "cell_type": "code",
   "execution_count": 35,
   "id": "43ffaa02",
   "metadata": {
    "execution": {
     "iopub.execute_input": "2023-03-10T14:14:01.761845Z",
     "iopub.status.busy": "2023-03-10T14:14:01.760379Z",
     "iopub.status.idle": "2023-03-10T14:14:01.770263Z",
     "shell.execute_reply": "2023-03-10T14:14:01.768914Z"
    },
    "papermill": {
     "duration": 0.029112,
     "end_time": "2023-03-10T14:14:01.773324",
     "exception": false,
     "start_time": "2023-03-10T14:14:01.744212",
     "status": "completed"
    },
    "tags": []
   },
   "outputs": [],
   "source": [
    "df['Age'] = median_imp.transform(df[['Age']])"
   ]
  },
  {
   "cell_type": "code",
   "execution_count": 36,
   "id": "1f26c387",
   "metadata": {
    "execution": {
     "iopub.execute_input": "2023-03-10T14:14:01.804851Z",
     "iopub.status.busy": "2023-03-10T14:14:01.804381Z",
     "iopub.status.idle": "2023-03-10T14:14:01.813475Z",
     "shell.execute_reply": "2023-03-10T14:14:01.811853Z"
    },
    "papermill": {
     "duration": 0.028524,
     "end_time": "2023-03-10T14:14:01.816514",
     "exception": false,
     "start_time": "2023-03-10T14:14:01.787990",
     "status": "completed"
    },
    "tags": []
   },
   "outputs": [],
   "source": [
    "df['Fare'] = const_imp.transform(df[['Fare']])"
   ]
  },
  {
   "cell_type": "code",
   "execution_count": 37,
   "id": "2be544c4",
   "metadata": {
    "execution": {
     "iopub.execute_input": "2023-03-10T14:14:01.848180Z",
     "iopub.status.busy": "2023-03-10T14:14:01.847122Z",
     "iopub.status.idle": "2023-03-10T14:14:01.862469Z",
     "shell.execute_reply": "2023-03-10T14:14:01.861022Z"
    },
    "papermill": {
     "duration": 0.034414,
     "end_time": "2023-03-10T14:14:01.865328",
     "exception": false,
     "start_time": "2023-03-10T14:14:01.830914",
     "status": "completed"
    },
    "tags": []
   },
   "outputs": [],
   "source": [
    "df['GenderClass'] = df.apply(lambda x: 'child' if x['Age'] < 18 else x['Sex'],axis=1)"
   ]
  },
  {
   "cell_type": "code",
   "execution_count": 38,
   "id": "17f22a03",
   "metadata": {
    "execution": {
     "iopub.execute_input": "2023-03-10T14:14:01.897109Z",
     "iopub.status.busy": "2023-03-10T14:14:01.896586Z",
     "iopub.status.idle": "2023-03-10T14:14:01.904308Z",
     "shell.execute_reply": "2023-03-10T14:14:01.902802Z"
    },
    "papermill": {
     "duration": 0.027052,
     "end_time": "2023-03-10T14:14:01.907144",
     "exception": false,
     "start_time": "2023-03-10T14:14:01.880092",
     "status": "completed"
    },
    "tags": []
   },
   "outputs": [],
   "source": [
    "df['FamilySize'] = df['SibSp'] + df['Parch'] + 1"
   ]
  },
  {
   "cell_type": "code",
   "execution_count": 39,
   "id": "9535c9e7",
   "metadata": {
    "execution": {
     "iopub.execute_input": "2023-03-10T14:14:01.938740Z",
     "iopub.status.busy": "2023-03-10T14:14:01.938233Z",
     "iopub.status.idle": "2023-03-10T14:14:01.946051Z",
     "shell.execute_reply": "2023-03-10T14:14:01.944909Z"
    },
    "papermill": {
     "duration": 0.026897,
     "end_time": "2023-03-10T14:14:01.948702",
     "exception": false,
     "start_time": "2023-03-10T14:14:01.921805",
     "status": "completed"
    },
    "tags": []
   },
   "outputs": [],
   "source": [
    "df = df.drop(labels=['PassengerId','Name','Ticket','Cabin','SibSp','Parch','Sex'],axis=1)"
   ]
  },
  {
   "cell_type": "code",
   "execution_count": 40,
   "id": "8beac783",
   "metadata": {
    "execution": {
     "iopub.execute_input": "2023-03-10T14:14:01.980121Z",
     "iopub.status.busy": "2023-03-10T14:14:01.979692Z",
     "iopub.status.idle": "2023-03-10T14:14:01.988957Z",
     "shell.execute_reply": "2023-03-10T14:14:01.987999Z"
    },
    "papermill": {
     "duration": 0.027706,
     "end_time": "2023-03-10T14:14:01.991190",
     "exception": false,
     "start_time": "2023-03-10T14:14:01.963484",
     "status": "completed"
    },
    "tags": []
   },
   "outputs": [],
   "source": [
    "df = pd.get_dummies(df, columns=['GenderClass','Embarked'], drop_first=True)"
   ]
  },
  {
   "cell_type": "code",
   "execution_count": 41,
   "id": "458a265d",
   "metadata": {
    "execution": {
     "iopub.execute_input": "2023-03-10T14:14:02.023571Z",
     "iopub.status.busy": "2023-03-10T14:14:02.022172Z",
     "iopub.status.idle": "2023-03-10T14:14:02.030989Z",
     "shell.execute_reply": "2023-03-10T14:14:02.029762Z"
    },
    "papermill": {
     "duration": 0.027878,
     "end_time": "2023-03-10T14:14:02.033850",
     "exception": false,
     "start_time": "2023-03-10T14:14:02.005972",
     "status": "completed"
    },
    "tags": []
   },
   "outputs": [],
   "source": [
    "df_pred = logreg.predict(df)"
   ]
  },
  {
   "cell_type": "code",
   "execution_count": 42,
   "id": "5a417313",
   "metadata": {
    "execution": {
     "iopub.execute_input": "2023-03-10T14:14:02.066357Z",
     "iopub.status.busy": "2023-03-10T14:14:02.064938Z",
     "iopub.status.idle": "2023-03-10T14:14:02.072481Z",
     "shell.execute_reply": "2023-03-10T14:14:02.071161Z"
    },
    "papermill": {
     "duration": 0.026928,
     "end_time": "2023-03-10T14:14:02.075553",
     "exception": false,
     "start_time": "2023-03-10T14:14:02.048625",
     "status": "completed"
    },
    "tags": []
   },
   "outputs": [],
   "source": [
    "output = pd.DataFrame({'PassengerId':test.PassengerId, 'Survived':df_pred})"
   ]
  },
  {
   "cell_type": "code",
   "execution_count": 43,
   "id": "faca93b4",
   "metadata": {
    "execution": {
     "iopub.execute_input": "2023-03-10T14:14:02.107167Z",
     "iopub.status.busy": "2023-03-10T14:14:02.105966Z",
     "iopub.status.idle": "2023-03-10T14:14:02.119145Z",
     "shell.execute_reply": "2023-03-10T14:14:02.117503Z"
    },
    "papermill": {
     "duration": 0.031921,
     "end_time": "2023-03-10T14:14:02.121924",
     "exception": false,
     "start_time": "2023-03-10T14:14:02.090003",
     "status": "completed"
    },
    "tags": []
   },
   "outputs": [
    {
     "name": "stdout",
     "output_type": "stream",
     "text": [
      "Your submission was successfully saved!\n"
     ]
    }
   ],
   "source": [
    "output.to_csv('submission.csv', index=False)\n",
    "print(\"Your submission was successfully saved!\")"
   ]
  },
  {
   "cell_type": "code",
   "execution_count": null,
   "id": "ddbfa23b",
   "metadata": {
    "papermill": {
     "duration": 0.013825,
     "end_time": "2023-03-10T14:14:02.150206",
     "exception": false,
     "start_time": "2023-03-10T14:14:02.136381",
     "status": "completed"
    },
    "tags": []
   },
   "outputs": [],
   "source": []
  }
 ],
 "metadata": {
  "kernelspec": {
   "display_name": "Python 3 (ipykernel)",
   "language": "python",
   "name": "python3"
  },
  "language_info": {
   "codemirror_mode": {
    "name": "ipython",
    "version": 3
   },
   "file_extension": ".py",
   "mimetype": "text/x-python",
   "name": "python",
   "nbconvert_exporter": "python",
   "pygments_lexer": "ipython3",
   "version": "3.9.7"
  },
  "papermill": {
   "default_parameters": {},
   "duration": 15.744149,
   "end_time": "2023-03-10T14:14:02.989323",
   "environment_variables": {},
   "exception": null,
   "input_path": "__notebook__.ipynb",
   "output_path": "__notebook__.ipynb",
   "parameters": {},
   "start_time": "2023-03-10T14:13:47.245174",
   "version": "2.4.0"
  }
 },
 "nbformat": 4,
 "nbformat_minor": 5
}
